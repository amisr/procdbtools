{
 "cells": [
  {
   "cell_type": "code",
   "execution_count": 1,
   "id": "19a22f3d-4850-4051-9c16-b23bcd97526a",
   "metadata": {},
   "outputs": [],
   "source": [
    "\"\"\"\n",
    " author: P. Reyes\n",
    " date: Nov 4, 2022\n",
    " description: This code allows to do queries to the django-based SRI AMISR database\n",
    "              just reading the sqlite3 database file. This code uses sqlalchemy and\n",
    "              is independent of django.\n",
    "\"\"\"\n",
    "import sqlalchemy\n",
    "from sqlalchemy.ext.automap import automap_base\n",
    "# dbPath = '/opt/websites/database/calendar/isr_database/amisrdb'\n",
    "dbPath = 'amisrdb'\n",
    "Base = automap_base()\n",
    "engine = sqlalchemy.create_engine('sqlite:///%s'%dbPath)\n",
    "Base.prepare(engine, reflect=True)\n",
    "session = sqlalchemy.orm.Session(engine)\n",
    "db = Base.classes"
   ]
  },
  {
   "cell_type": "code",
   "execution_count": 2,
   "id": "0ce779c2-18bc-49eb-9164-f11f08498cce",
   "metadata": {},
   "outputs": [
    {
     "name": "stdout",
     "output_type": "stream",
     "text": [
      "instrument abbr:PFISR, instrument id = 1\n",
      "instrument abbr:RISR-N, instrument id = 2\n"
     ]
    }
   ],
   "source": [
    "q_insts = session.query(db.procdb_instrument)\n",
    "for inst0 in q_insts:\n",
    "    print(f\"instrument abbr:{inst0.abbr}, instrument id = {inst0.id}\")"
   ]
  },
  {
   "cell_type": "code",
   "execution_count": 3,
   "id": "fde97272-9196-4b21-aa3e-a27ba770770b",
   "metadata": {},
   "outputs": [
    {
     "name": "stdout",
     "output_type": "stream",
     "text": [
      "20811 PFISR experiments. 7762 RISR-N experiments\n"
     ]
    }
   ],
   "source": [
    "# PFISR experiments\n",
    "q_pfisr = session.query(db.procdb_experiment).filter(db.procdb_experiment.inst_id == 1)\n",
    "q_risrn = session.query(db.procdb_experiment).filter(db.procdb_experiment.inst_id == 2)\n",
    "print(f\"{q_pfisr.count()} PFISR experiments. {q_risrn.count()} RISR-N experiments\")"
   ]
  },
  {
   "cell_type": "code",
   "execution_count": 4,
   "id": "7c3bd289-b22c-4463-9985-c23acb20272e",
   "metadata": {},
   "outputs": [],
   "source": [
    "merged_exps_pfisr = {}\n",
    "for exp0 in q_pfisr:\n",
    "    if not exp0.master_exp:\n",
    "        # if no primary experiment then skip\n",
    "        continue\n",
    "    if exp0.master_exp != exp0.name:\n",
    "        if exp0.master_exp not in merged_exps_pfisr.keys():\n",
    "            merged_exps_pfisr.update({exp0.master_exp:[]})\n",
    "        merged_exps_pfisr[exp0.master_exp].append(exp0.name)"
   ]
  },
  {
   "cell_type": "code",
   "execution_count": 5,
   "id": "c6cb3d44-62c9-486b-9a61-7dd5e30ac89c",
   "metadata": {},
   "outputs": [],
   "source": [
    "with open('merged_pfisr_exps.txt','w') as fp:\n",
    "    for item,val in merged_exps_pfisr.items():\n",
    "        fp.write(\"{}:\".format(item))\n",
    "        fp.write(\",\".join(val))\n",
    "        fp.write(\"\\n\")"
   ]
  },
  {
   "cell_type": "code",
   "execution_count": 6,
   "id": "c238bd88-f164-4b3e-8dd8-0cc9e57a1e65",
   "metadata": {},
   "outputs": [],
   "source": [
    "merged_exps_risrn = {}\n",
    "for exp0 in q_risrn:\n",
    "    if not exp0.master_exp:\n",
    "        # if no primary experiment then skip\n",
    "        continue\n",
    "    if exp0.master_exp != exp0.name:\n",
    "        if exp0.master_exp not in merged_exps_risrn.keys():\n",
    "            merged_exps_risrn.update({exp0.master_exp:[]})\n",
    "        merged_exps_risrn[exp0.master_exp].append(exp0.name)"
   ]
  },
  {
   "cell_type": "code",
   "execution_count": 7,
   "id": "78c21b1c-7001-4b1b-98c3-f909e194e96e",
   "metadata": {},
   "outputs": [],
   "source": [
    "with open('merged_risrn_exps.txt','w') as fp:\n",
    "    for item,val in merged_exps_risrn.items():\n",
    "        fp.write(\"{}:\".format(item))\n",
    "        fp.write(\",\".join(val))\n",
    "        fp.write(\"\\n\")"
   ]
  },
  {
   "cell_type": "markdown",
   "id": "dd9d9e04-294c-4da2-8708-9e0dda9aa2af",
   "metadata": {},
   "source": [
    "# New Stuff"
   ]
  },
  {
   "cell_type": "code",
   "execution_count": 18,
   "id": "d6a84e9e-b3fb-40e9-877c-2cb7d207e763",
   "metadata": {},
   "outputs": [],
   "source": [
    "import sqlalchemy as db\n",
    "import datetime as dt"
   ]
  },
  {
   "cell_type": "code",
   "execution_count": 50,
   "id": "9f9acaf8-cbc8-4ae1-912b-074021a6e33a",
   "metadata": {},
   "outputs": [
    {
     "name": "stdout",
     "output_type": "stream",
     "text": [
      "['auth_group', 'auth_group_permissions', 'auth_message', 'auth_permission', 'auth_user', 'auth_user_groups', 'auth_user_user_permissions', 'django_admin_log', 'django_content_type', 'django_evolution', 'django_project_version', 'django_session', 'django_site', 'procdb_experiment', 'procdb_experiment_tags', 'procdb_experimenttag', 'procdb_experimenttype', 'procdb_instrument', 'procdb_plannedexperiment', 'procdb_processingstatus']\n",
      "dict_keys([])\n",
      "['status_id', 'name', 'non_spinning_backup', 'start_time', 'id', 'note', 'proc_log', 'inst_id', 'end_time', 'type_id', 'cloud_backup', 'items', 'master_exp', 'status_date', 'size']\n",
      "20140212.001  2014-02-12 04:55:53 2014-02-12 05:01:52 605\n",
      "[('Swarm_v01_20140212.005',)]\n",
      "20140212.003  2014-02-12 09:03:49 2014-02-12 09:06:00 606\n",
      "[('CalSphere08_27392_20140212.075',)]\n",
      "20140212.005  2014-02-12 12:07:49 2014-02-12 12:11:01 607\n",
      "[('CalSphere08_22824_20140212.085',)]\n",
      "20140212.007  2014-02-12 17:19:52 2014-02-12 17:25:51 608\n",
      "[('Swarm_v01_20140212.006',)]\n",
      "20140212.009  2014-02-12 21:05:50 2014-02-12 21:09:02 609\n",
      "[('CalSphere08_5398_20140212.112',)]\n",
      "20140212.011  2014-02-12 22:00:48 2014-02-12 22:04:00 610\n",
      "[('CalSphere08_22824_20140212.091',)]\n",
      "20140212.013  2014-02-12 22:47:50 2014-02-12 22:50:01 611\n",
      "[('CalSphere08_25398_20140212.091',)]\n",
      "20140211.014 20140209.007 2014-02-11 23:13:00 2014-02-12 04:54:43 341\n",
      "[('IPY27',)]\n",
      "20140212.002 20140209.007 2014-02-12 05:03:03 2014-02-12 09:02:46 341\n",
      "[('IPY27',)]\n",
      "20140212.008 20140209.007 2014-02-12 17:27:04 2014-02-12 21:05:01 341\n",
      "[('IPY27',)]\n",
      "20140212.010 20140209.007 2014-02-12 21:10:01 2014-02-12 22:00:03 341\n",
      "[('IPY27',)]\n",
      "20140212.012 20140209.007 2014-02-12 22:05:00 2014-02-12 22:47:04 341\n",
      "[('IPY27',)]\n",
      "20140212.006 20140209.007 2014-02-12 12:12:02 2014-02-12 17:18:50 341\n",
      "[('IPY27',)]\n",
      "20140212.014 20140209.007 2014-02-12 22:51:00 2014-02-13 04:33:04 341\n",
      "[('IPY27',)]\n",
      "20140212.004 20140209.007 2014-02-12 09:07:00 2014-02-12 12:06:52 341\n",
      "[('IPY27',)]\n"
     ]
    }
   ],
   "source": [
    "unixstarttime = dt.datetime(2014,2,12,0,0,0)\n",
    "unixendtime = dt.datetime(2014,2,13,0,0,0)\n",
    "\n",
    "engine = db.create_engine('sqlite:///amisrdb')\n",
    "insp = db.inspect(engine)\n",
    "print(insp.get_table_names())\n",
    "with engine.connect() as conn:\n",
    "    \n",
    "    metadata = db.MetaData()\n",
    "    print(metadata.tables.keys())\n",
    "    \n",
    "    exp = db.Table('procdb_experiment', db.MetaData(), autoload=True, autoload_with=engine)\n",
    "    print(exp.columns.keys())\n",
    "    \n",
    "    # query = db.select([exp])\n",
    "    # print(conn.execute(query).fetchall())\n",
    "\n",
    "# In procdb_insrument:\n",
    "# ['id', 'abbr', 'descriptor', 'latitude', 'longitude', 'code']\n",
    "# [(1, 'PFISR', 'Poker Flat Incoherent Scatter Radar', 0.0, 0.0, 61), (2, 'RISR-N', 'Resolute Bay Incoherent Scatter Radar - North', 0.0, 0.0, 91)]\n",
    "# 1 = PFISR\n",
    "# 2 = RISR-N\n",
    "\n",
    "# procdb_experimenttype contains mode information\n",
    "# label = mode name\n",
    "# id??\n",
    "\n",
    "\n",
    "    params = [exp.columns.name, exp.columns.master_exp, exp.columns.type_id, exp.columns.start_time, exp.columns.end_time]\n",
    "\n",
    "\n",
    "    # queary AMISR database for experiments in this time frame\n",
    "    condition = db.and_(exp.columns.inst_id==1, exp.columns.end_time>unixstarttime, exp.columns.start_time<unixendtime)\n",
    "    # condition = db.and_(exp.columns.inst_id==1)\n",
    "    # db.procdb_experiment.inst_id == 1\n",
    "    query = db.select(params).where(condition)\n",
    "    exp_list = conn.execute(query).fetchall()\n",
    "\n",
    "    for exp in exp_list:\n",
    "        print(exp.name, exp.master_exp, exp.start_time, exp.end_time, exp.type_id)\n",
    "\n",
    "        exptype = db.Table('procdb_experimenttype', db.MetaData(), autoload=True, autoload_with=engine)\n",
    "        # print(exp.columns.keys())\n",
    "        query = db.select([exptype.columns.label]).where(exptype.columns.id == exp.type_id)\n",
    "        expname = conn.execute(query).fetchall()\n",
    "        print(expname)\n"
   ]
  },
  {
   "cell_type": "markdown",
   "id": "20629104-c810-44e5-a471-d97ff8ce4ef1",
   "metadata": {},
   "source": [
    "To form experiment path, need:\n",
    "- start date (year, month)\n",
    "- mode name\n",
    "- experiment number\n",
    "- master experiment name/number, if relevant"
   ]
  },
  {
   "cell_type": "code",
   "execution_count": 76,
   "id": "560cae5c-3596-4c45-b173-ad99502a257b",
   "metadata": {},
   "outputs": [
    {
     "name": "stdout",
     "output_type": "stream",
     "text": [
      "1\n",
      "Start Date: 2014-02-12 00:00:00\n",
      "Mode: Swarm_v01_20140212.005\n",
      "Experiment: 20140212.001\n",
      "Mast. Experiment: \n",
      "Start Date: 2014-02-12 00:00:00\n",
      "Mode: CalSphere08_27392_20140212.075\n",
      "Experiment: 20140212.003\n",
      "Mast. Experiment: \n",
      "Start Date: 2014-02-12 00:00:00\n",
      "Mode: CalSphere08_22824_20140212.085\n",
      "Experiment: 20140212.005\n",
      "Mast. Experiment: \n",
      "Start Date: 2014-02-12 00:00:00\n",
      "Mode: Swarm_v01_20140212.006\n",
      "Experiment: 20140212.007\n",
      "Mast. Experiment: \n",
      "Start Date: 2014-02-12 00:00:00\n",
      "Mode: CalSphere08_5398_20140212.112\n",
      "Experiment: 20140212.009\n",
      "Mast. Experiment: \n",
      "Start Date: 2014-02-12 00:00:00\n",
      "Mode: CalSphere08_22824_20140212.091\n",
      "Experiment: 20140212.011\n",
      "Mast. Experiment: \n",
      "Start Date: 2014-02-12 00:00:00\n",
      "Mode: CalSphere08_25398_20140212.091\n",
      "Experiment: 20140212.013\n",
      "Mast. Experiment: \n",
      "Start Date: 2014-02-09 00:00:00\n",
      "Mode: IPY27\n",
      "Experiment: 20140211.014\n",
      "Mast. Experiment: 20140209.007\n",
      "Start Date: 2014-02-09 00:00:00\n",
      "Mode: IPY27\n",
      "Experiment: 20140212.002\n",
      "Mast. Experiment: 20140209.007\n",
      "Start Date: 2014-02-09 00:00:00\n",
      "Mode: IPY27\n",
      "Experiment: 20140212.008\n",
      "Mast. Experiment: 20140209.007\n",
      "Start Date: 2014-02-09 00:00:00\n",
      "Mode: IPY27\n",
      "Experiment: 20140212.010\n",
      "Mast. Experiment: 20140209.007\n",
      "Start Date: 2014-02-09 00:00:00\n",
      "Mode: IPY27\n",
      "Experiment: 20140212.012\n",
      "Mast. Experiment: 20140209.007\n",
      "Start Date: 2014-02-09 00:00:00\n",
      "Mode: IPY27\n",
      "Experiment: 20140212.006\n",
      "Mast. Experiment: 20140209.007\n",
      "Start Date: 2014-02-09 00:00:00\n",
      "Mode: IPY27\n",
      "Experiment: 20140212.014\n",
      "Mast. Experiment: 20140209.007\n",
      "Start Date: 2014-02-09 00:00:00\n",
      "Mode: IPY27\n",
      "Experiment: 20140212.004\n",
      "Mast. Experiment: 20140209.007\n"
     ]
    }
   ],
   "source": [
    "starttime = dt.datetime(2014,2,12,0,0,0)\n",
    "endtime = dt.datetime(2014,2,13,0,0,0)\n",
    "\n",
    "import sqlalchemy\n",
    "from sqlalchemy.ext.automap import automap_base\n",
    "\n",
    "# Set up DB\n",
    "# dbPath = '/opt/websites/database/calendar/isr_database/amisrdb'\n",
    "dbPath = 'amisrdb'\n",
    "Base = automap_base()\n",
    "engine = sqlalchemy.create_engine('sqlite:///%s'%dbPath)\n",
    "Base.prepare(engine, reflect=True)\n",
    "session = sqlalchemy.orm.Session(engine)\n",
    "db = Base.classes\n",
    "\n",
    "# Get instrument ID number\n",
    "inst_id = session.query(db.procdb_instrument).filter(db.procdb_instrument.abbr == 'PFISR').one().id\n",
    "print(inst_id)\n",
    "\n",
    "# Find experiment by start/end times and radar id\n",
    "filt = sqlalchemy.and_(db.procdb_experiment.inst_id == inst_id, db.procdb_experiment.end_time>starttime, db.procdb_experiment.start_time<endtime)\n",
    "q_pfisr = session.query(db.procdb_experiment).filter(filt)\n",
    "for q in q_pfisr:\n",
    "    # print(q.name, q.master_exp, q.type_id)\n",
    "    \n",
    "    # Get Mode\n",
    "    mode = session.query(db.procdb_experimenttype).filter(db.procdb_experimenttype.id == q.type_id).one().label\n",
    "    # print(mode)\n",
    "    \n",
    "    if q.master_exp:\n",
    "        start_date = dt.datetime.strptime(q.master_exp[0:8], '%Y%m%d')\n",
    "    else:\n",
    "        start_date = dt.datetime.strptime(q.name[0:8], '%Y%m%d')\n",
    "    \n",
    "    print('Start Date:', start_date)\n",
    "    print('Mode:', mode)\n",
    "    print('Experiment:', q.name)\n",
    "    print('Mast. Experiment:', q.master_exp)\n",
    "    \n"
   ]
  },
  {
   "cell_type": "code",
   "execution_count": null,
   "id": "daea2da5-a4d3-4fb6-b604-187bee882cd2",
   "metadata": {},
   "outputs": [],
   "source": []
  }
 ],
 "metadata": {
  "kernelspec": {
   "display_name": "Python 3 (ipykernel)",
   "language": "python",
   "name": "python3"
  },
  "language_info": {
   "codemirror_mode": {
    "name": "ipython",
    "version": 3
   },
   "file_extension": ".py",
   "mimetype": "text/x-python",
   "name": "python",
   "nbconvert_exporter": "python",
   "pygments_lexer": "ipython3",
   "version": "3.9.13"
  }
 },
 "nbformat": 4,
 "nbformat_minor": 5
}
